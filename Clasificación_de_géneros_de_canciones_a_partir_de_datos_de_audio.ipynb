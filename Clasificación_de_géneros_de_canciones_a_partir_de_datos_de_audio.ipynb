{
  "cells": [
    {
      "source": [
        "## 1. Preparación de nuestro conjunto de datos\n",
        "En los últimos años, los servicios de streaming con enormes catálogos se han convertido en el principal medio a través del cual la mayoría de la gente escucha su música favorita. Pero, al mismo tiempo, la gran cantidad de música que ofrecen puede abrumar a los usuarios a la hora de buscar novedades que se ajusten a sus gustos.\n",
        "\n",
        "Por eso, los servicios de streaming han buscado formas de categorizar la música para ofrecer recomendaciones personalizadas. Uno de los métodos consiste en analizar directamente la información de audio en bruto de una canción determinada, puntuándola según una serie de parámetros. Hoy examinaremos los datos recopilados por un grupo de investigación conocido como The Echo Nest. Nuestro objetivo es examinar este conjunto de datos y clasificar las canciones como «Hip-Hop» o «Rock», sin escuchar ni una sola. Para ello, aprenderemos a limpiar nuestros datos, a visualizarlos de forma exploratoria y a utilizar la reducción de características con el objetivo de introducir nuestros datos en algunos algoritmos sencillos de aprendizaje automático, como los árboles de decisión y la regresión logística.\n",
        "\n",
        "Para empezar, vamos a cargar los metadatos de nuestras canciones junto con las métricas de canciones recopiladas por The Echo Nest. Una canción es algo más que su título, artista y número de escuchas. Tenemos otro conjunto de datos que contiene características musicales de cada canción, como la bailabilidad y la acústica, en una escala de -1 a 1. Estos datos se encuentran en dos archivos diferentes, con formatos distintos: CSV y JSON. Mientras que CSV es un formato de archivo popular para denotar datos tabulares, JSON es otro formato de archivo común en el que las bases de datos suelen devolver los resultados de una consulta determinada.\n",
        "\n",
        "Vamos a empezar por crear dos pandas DataFrames de estos archivos que podemos combinar para tener características y etiquetas (a menudo también referido como X e y) para la clasificación más adelante.\n",
        "\n"
      ],
      "metadata": {
        "tags": [
          "context"
        ],
        "editable": false,
        "dc": {
          "key": "3"
        },
        "deletable": false,
        "run_control": {
          "frozen": true
        },
        "id": "40fe9423-c13a-4796-9759-ac0d7830eaf3"
      },
      "id": "40fe9423-c13a-4796-9759-ac0d7830eaf3",
      "cell_type": "markdown"
    },
    {
      "source": [
        "import pandas as pd\n",
        "\n",
        "#Lectura de metadatos de pistas con etiquetas de género\n",
        "tracks = pd.read_csv('datasets/fma-rock-vs-hiphop.csv')\n",
        "\n",
        "# \"Leer las métricas de la pista con las características\"\n",
        "echonest_metrics = pd.read_json('datasets/echonest-metrics.json',precise_float = True)\n",
        "\n",
        "#Fusionar las columnas relevantes de tracks y echonest_metrics\n",
        "echo_tracks = echonest_metrics.merge(tracks[['genre_top','track_id']],on = 'track_id')\n",
        "\n",
        "# Inspeccionamos el dataset resultante\n",
        "echo_tracks.info()"
      ],
      "metadata": {
        "trusted": true,
        "tags": [
          "sample_code"
        ],
        "dc": {
          "key": "3"
        },
        "outputsMetadata": {
          "0": {
            "height": 332,
            "type": "stream"
          }
        },
        "colab": {
          "base_uri": "https://localhost:8080/"
        },
        "id": "a7c81eab-1b43-4756-b239-d37bad395b3b",
        "outputId": "da0a009c-2c67-4f26-8bc8-1efe3c957f34"
      },
      "id": "a7c81eab-1b43-4756-b239-d37bad395b3b",
      "cell_type": "code",
      "execution_count": null,
      "outputs": [
        {
          "output_type": "stream",
          "name": "stdout",
          "text": [
            "<class 'pandas.core.frame.DataFrame'>\n",
            "RangeIndex: 4802 entries, 0 to 4801\n",
            "Data columns (total 10 columns):\n",
            " #   Column            Non-Null Count  Dtype  \n",
            "---  ------            --------------  -----  \n",
            " 0   track_id          4802 non-null   int64  \n",
            " 1   acousticness      4802 non-null   float64\n",
            " 2   danceability      4802 non-null   float64\n",
            " 3   energy            4802 non-null   float64\n",
            " 4   instrumentalness  4802 non-null   float64\n",
            " 5   liveness          4802 non-null   float64\n",
            " 6   speechiness       4802 non-null   float64\n",
            " 7   tempo             4802 non-null   float64\n",
            " 8   valence           4802 non-null   float64\n",
            " 9   genre_top         4802 non-null   object \n",
            "dtypes: float64(8), int64(1), object(1)\n",
            "memory usage: 375.3+ KB\n"
          ]
        }
      ]
    },
    {
      "source": [
        "echo_tracks.head()"
      ],
      "metadata": {
        "trusted": true,
        "dc": {
          "key": "3"
        },
        "colab": {
          "base_uri": "https://localhost:8080/",
          "height": 206
        },
        "id": "655e2230-1cdc-43a9-99c4-910ce9eb3826",
        "outputId": "1d5ac59a-2bf0-45b2-895c-24512d955d57"
      },
      "id": "655e2230-1cdc-43a9-99c4-910ce9eb3826",
      "cell_type": "code",
      "execution_count": null,
      "outputs": [
        {
          "output_type": "execute_result",
          "data": {
            "text/plain": [
              "   track_id  acousticness  danceability    energy  instrumentalness  liveness  \\\n",
              "0         2      0.416675      0.675894  0.634476          0.010628  0.177647   \n",
              "1         3      0.374408      0.528643  0.817461          0.001851  0.105880   \n",
              "2         5      0.043567      0.745566  0.701470          0.000697  0.373143   \n",
              "3       134      0.452217      0.513238  0.560410          0.019443  0.096567   \n",
              "4       153      0.988306      0.255661  0.979774          0.973006  0.121342   \n",
              "\n",
              "   speechiness    tempo   valence genre_top  \n",
              "0     0.159310  165.922  0.576661   Hip-Hop  \n",
              "1     0.461818  126.957  0.269240   Hip-Hop  \n",
              "2     0.124595  100.260  0.621661   Hip-Hop  \n",
              "3     0.525519  114.290  0.894072   Hip-Hop  \n",
              "4     0.051740   90.241  0.034018      Rock  "
            ],
            "text/html": [
              "\n",
              "  <div id=\"df-eaf215aa-9223-426f-a215-ac7721c6b9f8\" class=\"colab-df-container\">\n",
              "    <div>\n",
              "<style scoped>\n",
              "    .dataframe tbody tr th:only-of-type {\n",
              "        vertical-align: middle;\n",
              "    }\n",
              "\n",
              "    .dataframe tbody tr th {\n",
              "        vertical-align: top;\n",
              "    }\n",
              "\n",
              "    .dataframe thead th {\n",
              "        text-align: right;\n",
              "    }\n",
              "</style>\n",
              "<table border=\"1\" class=\"dataframe\">\n",
              "  <thead>\n",
              "    <tr style=\"text-align: right;\">\n",
              "      <th></th>\n",
              "      <th>track_id</th>\n",
              "      <th>acousticness</th>\n",
              "      <th>danceability</th>\n",
              "      <th>energy</th>\n",
              "      <th>instrumentalness</th>\n",
              "      <th>liveness</th>\n",
              "      <th>speechiness</th>\n",
              "      <th>tempo</th>\n",
              "      <th>valence</th>\n",
              "      <th>genre_top</th>\n",
              "    </tr>\n",
              "  </thead>\n",
              "  <tbody>\n",
              "    <tr>\n",
              "      <th>0</th>\n",
              "      <td>2</td>\n",
              "      <td>0.416675</td>\n",
              "      <td>0.675894</td>\n",
              "      <td>0.634476</td>\n",
              "      <td>0.010628</td>\n",
              "      <td>0.177647</td>\n",
              "      <td>0.159310</td>\n",
              "      <td>165.922</td>\n",
              "      <td>0.576661</td>\n",
              "      <td>Hip-Hop</td>\n",
              "    </tr>\n",
              "    <tr>\n",
              "      <th>1</th>\n",
              "      <td>3</td>\n",
              "      <td>0.374408</td>\n",
              "      <td>0.528643</td>\n",
              "      <td>0.817461</td>\n",
              "      <td>0.001851</td>\n",
              "      <td>0.105880</td>\n",
              "      <td>0.461818</td>\n",
              "      <td>126.957</td>\n",
              "      <td>0.269240</td>\n",
              "      <td>Hip-Hop</td>\n",
              "    </tr>\n",
              "    <tr>\n",
              "      <th>2</th>\n",
              "      <td>5</td>\n",
              "      <td>0.043567</td>\n",
              "      <td>0.745566</td>\n",
              "      <td>0.701470</td>\n",
              "      <td>0.000697</td>\n",
              "      <td>0.373143</td>\n",
              "      <td>0.124595</td>\n",
              "      <td>100.260</td>\n",
              "      <td>0.621661</td>\n",
              "      <td>Hip-Hop</td>\n",
              "    </tr>\n",
              "    <tr>\n",
              "      <th>3</th>\n",
              "      <td>134</td>\n",
              "      <td>0.452217</td>\n",
              "      <td>0.513238</td>\n",
              "      <td>0.560410</td>\n",
              "      <td>0.019443</td>\n",
              "      <td>0.096567</td>\n",
              "      <td>0.525519</td>\n",
              "      <td>114.290</td>\n",
              "      <td>0.894072</td>\n",
              "      <td>Hip-Hop</td>\n",
              "    </tr>\n",
              "    <tr>\n",
              "      <th>4</th>\n",
              "      <td>153</td>\n",
              "      <td>0.988306</td>\n",
              "      <td>0.255661</td>\n",
              "      <td>0.979774</td>\n",
              "      <td>0.973006</td>\n",
              "      <td>0.121342</td>\n",
              "      <td>0.051740</td>\n",
              "      <td>90.241</td>\n",
              "      <td>0.034018</td>\n",
              "      <td>Rock</td>\n",
              "    </tr>\n",
              "  </tbody>\n",
              "</table>\n",
              "</div>\n",
              "    <div class=\"colab-df-buttons\">\n",
              "\n",
              "  <div class=\"colab-df-container\">\n",
              "    <button class=\"colab-df-convert\" onclick=\"convertToInteractive('df-eaf215aa-9223-426f-a215-ac7721c6b9f8')\"\n",
              "            title=\"Convert this dataframe to an interactive table.\"\n",
              "            style=\"display:none;\">\n",
              "\n",
              "  <svg xmlns=\"http://www.w3.org/2000/svg\" height=\"24px\" viewBox=\"0 -960 960 960\">\n",
              "    <path d=\"M120-120v-720h720v720H120Zm60-500h600v-160H180v160Zm220 220h160v-160H400v160Zm0 220h160v-160H400v160ZM180-400h160v-160H180v160Zm440 0h160v-160H620v160ZM180-180h160v-160H180v160Zm440 0h160v-160H620v160Z\"/>\n",
              "  </svg>\n",
              "    </button>\n",
              "\n",
              "  <style>\n",
              "    .colab-df-container {\n",
              "      display:flex;\n",
              "      gap: 12px;\n",
              "    }\n",
              "\n",
              "    .colab-df-convert {\n",
              "      background-color: #E8F0FE;\n",
              "      border: none;\n",
              "      border-radius: 50%;\n",
              "      cursor: pointer;\n",
              "      display: none;\n",
              "      fill: #1967D2;\n",
              "      height: 32px;\n",
              "      padding: 0 0 0 0;\n",
              "      width: 32px;\n",
              "    }\n",
              "\n",
              "    .colab-df-convert:hover {\n",
              "      background-color: #E2EBFA;\n",
              "      box-shadow: 0px 1px 2px rgba(60, 64, 67, 0.3), 0px 1px 3px 1px rgba(60, 64, 67, 0.15);\n",
              "      fill: #174EA6;\n",
              "    }\n",
              "\n",
              "    .colab-df-buttons div {\n",
              "      margin-bottom: 4px;\n",
              "    }\n",
              "\n",
              "    [theme=dark] .colab-df-convert {\n",
              "      background-color: #3B4455;\n",
              "      fill: #D2E3FC;\n",
              "    }\n",
              "\n",
              "    [theme=dark] .colab-df-convert:hover {\n",
              "      background-color: #434B5C;\n",
              "      box-shadow: 0px 1px 3px 1px rgba(0, 0, 0, 0.15);\n",
              "      filter: drop-shadow(0px 1px 2px rgba(0, 0, 0, 0.3));\n",
              "      fill: #FFFFFF;\n",
              "    }\n",
              "  </style>\n",
              "\n",
              "    <script>\n",
              "      const buttonEl =\n",
              "        document.querySelector('#df-eaf215aa-9223-426f-a215-ac7721c6b9f8 button.colab-df-convert');\n",
              "      buttonEl.style.display =\n",
              "        google.colab.kernel.accessAllowed ? 'block' : 'none';\n",
              "\n",
              "      async function convertToInteractive(key) {\n",
              "        const element = document.querySelector('#df-eaf215aa-9223-426f-a215-ac7721c6b9f8');\n",
              "        const dataTable =\n",
              "          await google.colab.kernel.invokeFunction('convertToInteractive',\n",
              "                                                    [key], {});\n",
              "        if (!dataTable) return;\n",
              "\n",
              "        const docLinkHtml = 'Like what you see? Visit the ' +\n",
              "          '<a target=\"_blank\" href=https://colab.research.google.com/notebooks/data_table.ipynb>data table notebook</a>'\n",
              "          + ' to learn more about interactive tables.';\n",
              "        element.innerHTML = '';\n",
              "        dataTable['output_type'] = 'display_data';\n",
              "        await google.colab.output.renderOutput(dataTable, element);\n",
              "        const docLink = document.createElement('div');\n",
              "        docLink.innerHTML = docLinkHtml;\n",
              "        element.appendChild(docLink);\n",
              "      }\n",
              "    </script>\n",
              "  </div>\n",
              "\n",
              "\n",
              "<div id=\"df-115bbab1-f3b0-4a0d-b4f5-feb9e0818a57\">\n",
              "  <button class=\"colab-df-quickchart\" onclick=\"quickchart('df-115bbab1-f3b0-4a0d-b4f5-feb9e0818a57')\"\n",
              "            title=\"Suggest charts\"\n",
              "            style=\"display:none;\">\n",
              "\n",
              "<svg xmlns=\"http://www.w3.org/2000/svg\" height=\"24px\"viewBox=\"0 0 24 24\"\n",
              "     width=\"24px\">\n",
              "    <g>\n",
              "        <path d=\"M19 3H5c-1.1 0-2 .9-2 2v14c0 1.1.9 2 2 2h14c1.1 0 2-.9 2-2V5c0-1.1-.9-2-2-2zM9 17H7v-7h2v7zm4 0h-2V7h2v10zm4 0h-2v-4h2v4z\"/>\n",
              "    </g>\n",
              "</svg>\n",
              "  </button>\n",
              "\n",
              "<style>\n",
              "  .colab-df-quickchart {\n",
              "      --bg-color: #E8F0FE;\n",
              "      --fill-color: #1967D2;\n",
              "      --hover-bg-color: #E2EBFA;\n",
              "      --hover-fill-color: #174EA6;\n",
              "      --disabled-fill-color: #AAA;\n",
              "      --disabled-bg-color: #DDD;\n",
              "  }\n",
              "\n",
              "  [theme=dark] .colab-df-quickchart {\n",
              "      --bg-color: #3B4455;\n",
              "      --fill-color: #D2E3FC;\n",
              "      --hover-bg-color: #434B5C;\n",
              "      --hover-fill-color: #FFFFFF;\n",
              "      --disabled-bg-color: #3B4455;\n",
              "      --disabled-fill-color: #666;\n",
              "  }\n",
              "\n",
              "  .colab-df-quickchart {\n",
              "    background-color: var(--bg-color);\n",
              "    border: none;\n",
              "    border-radius: 50%;\n",
              "    cursor: pointer;\n",
              "    display: none;\n",
              "    fill: var(--fill-color);\n",
              "    height: 32px;\n",
              "    padding: 0;\n",
              "    width: 32px;\n",
              "  }\n",
              "\n",
              "  .colab-df-quickchart:hover {\n",
              "    background-color: var(--hover-bg-color);\n",
              "    box-shadow: 0 1px 2px rgba(60, 64, 67, 0.3), 0 1px 3px 1px rgba(60, 64, 67, 0.15);\n",
              "    fill: var(--button-hover-fill-color);\n",
              "  }\n",
              "\n",
              "  .colab-df-quickchart-complete:disabled,\n",
              "  .colab-df-quickchart-complete:disabled:hover {\n",
              "    background-color: var(--disabled-bg-color);\n",
              "    fill: var(--disabled-fill-color);\n",
              "    box-shadow: none;\n",
              "  }\n",
              "\n",
              "  .colab-df-spinner {\n",
              "    border: 2px solid var(--fill-color);\n",
              "    border-color: transparent;\n",
              "    border-bottom-color: var(--fill-color);\n",
              "    animation:\n",
              "      spin 1s steps(1) infinite;\n",
              "  }\n",
              "\n",
              "  @keyframes spin {\n",
              "    0% {\n",
              "      border-color: transparent;\n",
              "      border-bottom-color: var(--fill-color);\n",
              "      border-left-color: var(--fill-color);\n",
              "    }\n",
              "    20% {\n",
              "      border-color: transparent;\n",
              "      border-left-color: var(--fill-color);\n",
              "      border-top-color: var(--fill-color);\n",
              "    }\n",
              "    30% {\n",
              "      border-color: transparent;\n",
              "      border-left-color: var(--fill-color);\n",
              "      border-top-color: var(--fill-color);\n",
              "      border-right-color: var(--fill-color);\n",
              "    }\n",
              "    40% {\n",
              "      border-color: transparent;\n",
              "      border-right-color: var(--fill-color);\n",
              "      border-top-color: var(--fill-color);\n",
              "    }\n",
              "    60% {\n",
              "      border-color: transparent;\n",
              "      border-right-color: var(--fill-color);\n",
              "    }\n",
              "    80% {\n",
              "      border-color: transparent;\n",
              "      border-right-color: var(--fill-color);\n",
              "      border-bottom-color: var(--fill-color);\n",
              "    }\n",
              "    90% {\n",
              "      border-color: transparent;\n",
              "      border-bottom-color: var(--fill-color);\n",
              "    }\n",
              "  }\n",
              "</style>\n",
              "\n",
              "  <script>\n",
              "    async function quickchart(key) {\n",
              "      const quickchartButtonEl =\n",
              "        document.querySelector('#' + key + ' button');\n",
              "      quickchartButtonEl.disabled = true;  // To prevent multiple clicks.\n",
              "      quickchartButtonEl.classList.add('colab-df-spinner');\n",
              "      try {\n",
              "        const charts = await google.colab.kernel.invokeFunction(\n",
              "            'suggestCharts', [key], {});\n",
              "      } catch (error) {\n",
              "        console.error('Error during call to suggestCharts:', error);\n",
              "      }\n",
              "      quickchartButtonEl.classList.remove('colab-df-spinner');\n",
              "      quickchartButtonEl.classList.add('colab-df-quickchart-complete');\n",
              "    }\n",
              "    (() => {\n",
              "      let quickchartButtonEl =\n",
              "        document.querySelector('#df-115bbab1-f3b0-4a0d-b4f5-feb9e0818a57 button');\n",
              "      quickchartButtonEl.style.display =\n",
              "        google.colab.kernel.accessAllowed ? 'block' : 'none';\n",
              "    })();\n",
              "  </script>\n",
              "</div>\n",
              "\n",
              "    </div>\n",
              "  </div>\n"
            ],
            "application/vnd.google.colaboratory.intrinsic+json": {
              "type": "dataframe",
              "variable_name": "echo_tracks",
              "summary": "{\n  \"name\": \"echo_tracks\",\n  \"rows\": 4802,\n  \"fields\": [\n    {\n      \"column\": \"track_id\",\n      \"properties\": {\n        \"dtype\": \"number\",\n        \"std\": 28592,\n        \"min\": 2,\n        \"max\": 124722,\n        \"num_unique_values\": 4802,\n        \"samples\": [\n          3499,\n          86678,\n          33548\n        ],\n        \"semantic_type\": \"\",\n        \"description\": \"\"\n      }\n    },\n    {\n      \"column\": \"acousticness\",\n      \"properties\": {\n        \"dtype\": \"number\",\n        \"std\": 0.3681395996316234,\n        \"min\": 9.491e-07,\n        \"max\": 0.9957964501,\n        \"num_unique_values\": 4798,\n        \"samples\": [\n          0.2780773408,\n          0.8773668817,\n          0.0929969153\n        ],\n        \"semantic_type\": \"\",\n        \"description\": \"\"\n      }\n    },\n    {\n      \"column\": \"danceability\",\n      \"properties\": {\n        \"dtype\": \"number\",\n        \"std\": 0.18350166487246725,\n        \"min\": 0.051307487,\n        \"max\": 0.9618706942,\n        \"num_unique_values\": 4802,\n        \"samples\": [\n          0.2662075466,\n          0.4060672423,\n          0.6639358996\n        ],\n        \"semantic_type\": \"\",\n        \"description\": \"\"\n      }\n    },\n    {\n      \"column\": \"energy\",\n      \"properties\": {\n        \"dtype\": \"number\",\n        \"std\": 0.24405068313101252,\n        \"min\": 0.000278548,\n        \"max\": 0.999767599,\n        \"num_unique_values\": 4802,\n        \"samples\": [\n          0.6851176029,\n          0.4905957075,\n          0.3224415628\n        ],\n        \"semantic_type\": \"\",\n        \"description\": \"\"\n      }\n    },\n    {\n      \"column\": \"instrumentalness\",\n      \"properties\": {\n        \"dtype\": \"number\",\n        \"std\": 0.3764871935656221,\n        \"min\": 0.0,\n        \"max\": 0.9931342795,\n        \"num_unique_values\": 4735,\n        \"samples\": [\n          0.6477756931,\n          0.9417387615,\n          0.8058718053\n        ],\n        \"semantic_type\": \"\",\n        \"description\": \"\"\n      }\n    },\n    {\n      \"column\": \"liveness\",\n      \"properties\": {\n        \"dtype\": \"number\",\n        \"std\": 0.15056191194958246,\n        \"min\": 0.0252973415,\n        \"max\": 0.9713922939,\n        \"num_unique_values\": 4802,\n        \"samples\": [\n          0.1237240642,\n          0.0823614164,\n          0.2280714668\n        ],\n        \"semantic_type\": \"\",\n        \"description\": \"\"\n      }\n    },\n    {\n      \"column\": \"speechiness\",\n      \"properties\": {\n        \"dtype\": \"number\",\n        \"std\": 0.14593435856697218,\n        \"min\": 0.0232337297,\n        \"max\": 0.9661774074,\n        \"num_unique_values\": 4802,\n        \"samples\": [\n          0.0317623491,\n          0.0701038429,\n          0.0953846474\n        ],\n        \"semantic_type\": \"\",\n        \"description\": \"\"\n      }\n    },\n    {\n      \"column\": \"tempo\",\n      \"properties\": {\n        \"dtype\": \"number\",\n        \"std\": 34.002472673771855,\n        \"min\": 29.093,\n        \"max\": 250.059,\n        \"num_unique_values\": 4693,\n        \"samples\": [\n          123.979,\n          230.087,\n          108.237\n        ],\n        \"semantic_type\": \"\",\n        \"description\": \"\"\n      }\n    },\n    {\n      \"column\": \"valence\",\n      \"properties\": {\n        \"dtype\": \"number\",\n        \"std\": 0.26663186681488826,\n        \"min\": 0.0143921742,\n        \"max\": 0.9836492001,\n        \"num_unique_values\": 4802,\n        \"samples\": [\n          0.2947132961,\n          0.2078538034,\n          0.5092951077\n        ],\n        \"semantic_type\": \"\",\n        \"description\": \"\"\n      }\n    },\n    {\n      \"column\": \"genre_top\",\n      \"properties\": {\n        \"dtype\": \"category\",\n        \"num_unique_values\": 2,\n        \"samples\": [\n          \"Rock\",\n          \"Hip-Hop\"\n        ],\n        \"semantic_type\": \"\",\n        \"description\": \"\"\n      }\n    }\n  ]\n}"
            }
          },
          "metadata": {},
          "execution_count": 2
        }
      ]
    },
    {
      "source": [
        "## 2. Relaciones por pares entre variables continuas\n",
        "<p>Normalmente queremos evitar el uso de variables que tengan fuertes correlaciones entre sí -evitando así la redundancia de características- por varias razones:</p>\n",
        "<ul>\n",
        "<li>Para mantener el modelo simple y mejorar la interpretabilidad (Con muchas características, corremos el riesgo de sobreajustar).</li>\n",
        "<li>Cuando nuestros conjuntos de datos son muy grandes, utilizar menos características puede acelerar drásticamente el tiempo de cálculo.</li>\n",
        "</ul>\n",
        "<p>Para hacernos una idea de si existen características fuertemente correlacionadas en nuestros datos, utilizaremos funciones integradas en el paquete <code>pandas</code>.</p>"
      ],
      "metadata": {
        "tags": [
          "context"
        ],
        "editable": false,
        "dc": {
          "key": "10"
        },
        "deletable": false,
        "run_control": {
          "frozen": true
        },
        "id": "84d7d4b0-768b-488d-bdb0-fcb9ede65a0d"
      },
      "id": "84d7d4b0-768b-488d-bdb0-fcb9ede65a0d",
      "cell_type": "markdown"
    },
    {
      "source": [
        "# Creación de la matriz de correlación\n",
        "corr_metrics = echonest_metrics.corr()\n",
        "corr_metrics.style.background_gradient()"
      ],
      "metadata": {
        "trusted": true,
        "tags": [
          "sample_code"
        ],
        "dc": {
          "key": "10"
        },
        "colab": {
          "base_uri": "https://localhost:8080/",
          "height": 332
        },
        "id": "5be55b8e-02c6-4f5c-a51b-9edfb2c6d9e3",
        "outputId": "fa81c869-ef51-47ad-cd17-1d82e911c7b5"
      },
      "id": "5be55b8e-02c6-4f5c-a51b-9edfb2c6d9e3",
      "cell_type": "code",
      "execution_count": null,
      "outputs": [
        {
          "output_type": "execute_result",
          "data": {
            "text/plain": [
              "<pandas.io.formats.style.Styler at 0x7cb802be9ba0>"
            ],
            "text/html": [
              "<style type=\"text/css\">\n",
              "#T_2e8a5_row0_col0, #T_2e8a5_row1_col1, #T_2e8a5_row2_col2, #T_2e8a5_row3_col3, #T_2e8a5_row4_col4, #T_2e8a5_row5_col5, #T_2e8a5_row6_col6, #T_2e8a5_row7_col7, #T_2e8a5_row8_col8 {\n",
              "  background-color: #023858;\n",
              "  color: #f1f1f1;\n",
              "}\n",
              "#T_2e8a5_row0_col1 {\n",
              "  background-color: #eae6f1;\n",
              "  color: #000000;\n",
              "}\n",
              "#T_2e8a5_row0_col2 {\n",
              "  background-color: #d2d2e7;\n",
              "  color: #000000;\n",
              "}\n",
              "#T_2e8a5_row0_col3 {\n",
              "  background-color: #9ab8d8;\n",
              "  color: #000000;\n",
              "}\n",
              "#T_2e8a5_row0_col4, #T_2e8a5_row1_col0, #T_2e8a5_row1_col2, #T_2e8a5_row1_col3, #T_2e8a5_row1_col7, #T_2e8a5_row2_col5, #T_2e8a5_row3_col1, #T_2e8a5_row4_col0, #T_2e8a5_row4_col6, #T_2e8a5_row4_col8 {\n",
              "  background-color: #fff7fb;\n",
              "  color: #000000;\n",
              "}\n",
              "#T_2e8a5_row0_col5 {\n",
              "  background-color: #ede7f2;\n",
              "  color: #000000;\n",
              "}\n",
              "#T_2e8a5_row0_col6 {\n",
              "  background-color: #eee8f3;\n",
              "  color: #000000;\n",
              "}\n",
              "#T_2e8a5_row0_col7 {\n",
              "  background-color: #f0eaf4;\n",
              "  color: #000000;\n",
              "}\n",
              "#T_2e8a5_row0_col8 {\n",
              "  background-color: #e8e4f0;\n",
              "  color: #000000;\n",
              "}\n",
              "#T_2e8a5_row1_col4 {\n",
              "  background-color: #bdc8e1;\n",
              "  color: #000000;\n",
              "}\n",
              "#T_2e8a5_row1_col5, #T_2e8a5_row6_col0 {\n",
              "  background-color: #e4e1ef;\n",
              "  color: #000000;\n",
              "}\n",
              "#T_2e8a5_row1_col6, #T_2e8a5_row6_col8 {\n",
              "  background-color: #d9d8ea;\n",
              "  color: #000000;\n",
              "}\n",
              "#T_2e8a5_row1_col8, #T_2e8a5_row6_col4 {\n",
              "  background-color: #f7f0f7;\n",
              "  color: #000000;\n",
              "}\n",
              "#T_2e8a5_row2_col0 {\n",
              "  background-color: #c0c9e2;\n",
              "  color: #000000;\n",
              "}\n",
              "#T_2e8a5_row2_col1 {\n",
              "  background-color: #dddbec;\n",
              "  color: #000000;\n",
              "}\n",
              "#T_2e8a5_row2_col3, #T_2e8a5_row5_col3 {\n",
              "  background-color: #adc1dd;\n",
              "  color: #000000;\n",
              "}\n",
              "#T_2e8a5_row2_col4, #T_2e8a5_row6_col7 {\n",
              "  background-color: #ece7f2;\n",
              "  color: #000000;\n",
              "}\n",
              "#T_2e8a5_row2_col6, #T_2e8a5_row3_col8, #T_2e8a5_row6_col3 {\n",
              "  background-color: #b9c6e0;\n",
              "  color: #000000;\n",
              "}\n",
              "#T_2e8a5_row2_col7 {\n",
              "  background-color: #fdf5fa;\n",
              "  color: #000000;\n",
              "}\n",
              "#T_2e8a5_row2_col8 {\n",
              "  background-color: #73a9cf;\n",
              "  color: #f1f1f1;\n",
              "}\n",
              "#T_2e8a5_row3_col0 {\n",
              "  background-color: #bbc7e0;\n",
              "  color: #000000;\n",
              "}\n",
              "#T_2e8a5_row3_col2 {\n",
              "  background-color: #dcdaeb;\n",
              "  color: #000000;\n",
              "}\n",
              "#T_2e8a5_row3_col4 {\n",
              "  background-color: #d7d6e9;\n",
              "  color: #000000;\n",
              "}\n",
              "#T_2e8a5_row3_col5 {\n",
              "  background-color: #e3e0ee;\n",
              "  color: #000000;\n",
              "}\n",
              "#T_2e8a5_row3_col6 {\n",
              "  background-color: #e2dfee;\n",
              "  color: #000000;\n",
              "}\n",
              "#T_2e8a5_row3_col7, #T_2e8a5_row6_col2 {\n",
              "  background-color: #bfc9e1;\n",
              "  color: #000000;\n",
              "}\n",
              "#T_2e8a5_row4_col1 {\n",
              "  background-color: #9ebad9;\n",
              "  color: #000000;\n",
              "}\n",
              "#T_2e8a5_row4_col2 {\n",
              "  background-color: #f6eff7;\n",
              "  color: #000000;\n",
              "}\n",
              "#T_2e8a5_row4_col3 {\n",
              "  background-color: #b8c6e0;\n",
              "  color: #000000;\n",
              "}\n",
              "#T_2e8a5_row4_col5 {\n",
              "  background-color: #f4eef6;\n",
              "  color: #000000;\n",
              "}\n",
              "#T_2e8a5_row4_col7, #T_2e8a5_row7_col5 {\n",
              "  background-color: #ede8f3;\n",
              "  color: #000000;\n",
              "}\n",
              "#T_2e8a5_row5_col0, #T_2e8a5_row8_col7 {\n",
              "  background-color: #d8d7e9;\n",
              "  color: #000000;\n",
              "}\n",
              "#T_2e8a5_row5_col1, #T_2e8a5_row6_col1 {\n",
              "  background-color: #afc1dd;\n",
              "  color: #000000;\n",
              "}\n",
              "#T_2e8a5_row5_col2 {\n",
              "  background-color: #faf2f8;\n",
              "  color: #000000;\n",
              "}\n",
              "#T_2e8a5_row5_col4 {\n",
              "  background-color: #e1dfed;\n",
              "  color: #000000;\n",
              "}\n",
              "#T_2e8a5_row5_col6, #T_2e8a5_row8_col0 {\n",
              "  background-color: #d3d4e7;\n",
              "  color: #000000;\n",
              "}\n",
              "#T_2e8a5_row5_col7 {\n",
              "  background-color: #f1ebf5;\n",
              "  color: #000000;\n",
              "}\n",
              "#T_2e8a5_row5_col8, #T_2e8a5_row8_col5 {\n",
              "  background-color: #eee9f3;\n",
              "  color: #000000;\n",
              "}\n",
              "#T_2e8a5_row6_col5 {\n",
              "  background-color: #dedcec;\n",
              "  color: #000000;\n",
              "}\n",
              "#T_2e8a5_row7_col0 {\n",
              "  background-color: #d6d6e9;\n",
              "  color: #000000;\n",
              "}\n",
              "#T_2e8a5_row7_col1 {\n",
              "  background-color: #d1d2e6;\n",
              "  color: #000000;\n",
              "}\n",
              "#T_2e8a5_row7_col2 {\n",
              "  background-color: #f3edf5;\n",
              "  color: #000000;\n",
              "}\n",
              "#T_2e8a5_row7_col3 {\n",
              "  background-color: #7dacd1;\n",
              "  color: #f1f1f1;\n",
              "}\n",
              "#T_2e8a5_row7_col4, #T_2e8a5_row7_col8 {\n",
              "  background-color: #d2d3e7;\n",
              "  color: #000000;\n",
              "}\n",
              "#T_2e8a5_row7_col6 {\n",
              "  background-color: #dad9ea;\n",
              "  color: #000000;\n",
              "}\n",
              "#T_2e8a5_row8_col1 {\n",
              "  background-color: #cccfe5;\n",
              "  color: #000000;\n",
              "}\n",
              "#T_2e8a5_row8_col2 {\n",
              "  background-color: #69a5cc;\n",
              "  color: #f1f1f1;\n",
              "}\n",
              "#T_2e8a5_row8_col3 {\n",
              "  background-color: #80aed2;\n",
              "  color: #f1f1f1;\n",
              "}\n",
              "#T_2e8a5_row8_col4 {\n",
              "  background-color: #efe9f3;\n",
              "  color: #000000;\n",
              "}\n",
              "#T_2e8a5_row8_col6 {\n",
              "  background-color: #ced0e6;\n",
              "  color: #000000;\n",
              "}\n",
              "</style>\n",
              "<table id=\"T_2e8a5\" class=\"dataframe\">\n",
              "  <thead>\n",
              "    <tr>\n",
              "      <th class=\"blank level0\" >&nbsp;</th>\n",
              "      <th id=\"T_2e8a5_level0_col0\" class=\"col_heading level0 col0\" >track_id</th>\n",
              "      <th id=\"T_2e8a5_level0_col1\" class=\"col_heading level0 col1\" >acousticness</th>\n",
              "      <th id=\"T_2e8a5_level0_col2\" class=\"col_heading level0 col2\" >danceability</th>\n",
              "      <th id=\"T_2e8a5_level0_col3\" class=\"col_heading level0 col3\" >energy</th>\n",
              "      <th id=\"T_2e8a5_level0_col4\" class=\"col_heading level0 col4\" >instrumentalness</th>\n",
              "      <th id=\"T_2e8a5_level0_col5\" class=\"col_heading level0 col5\" >liveness</th>\n",
              "      <th id=\"T_2e8a5_level0_col6\" class=\"col_heading level0 col6\" >speechiness</th>\n",
              "      <th id=\"T_2e8a5_level0_col7\" class=\"col_heading level0 col7\" >tempo</th>\n",
              "      <th id=\"T_2e8a5_level0_col8\" class=\"col_heading level0 col8\" >valence</th>\n",
              "    </tr>\n",
              "  </thead>\n",
              "  <tbody>\n",
              "    <tr>\n",
              "      <th id=\"T_2e8a5_level0_row0\" class=\"row_heading level0 row0\" >track_id</th>\n",
              "      <td id=\"T_2e8a5_row0_col0\" class=\"data row0 col0\" >1.000000</td>\n",
              "      <td id=\"T_2e8a5_row0_col1\" class=\"data row0 col1\" >-0.279829</td>\n",
              "      <td id=\"T_2e8a5_row0_col2\" class=\"data row0 col2\" >0.102056</td>\n",
              "      <td id=\"T_2e8a5_row0_col3\" class=\"data row0 col3\" >0.121991</td>\n",
              "      <td id=\"T_2e8a5_row0_col4\" class=\"data row0 col4\" >-0.283206</td>\n",
              "      <td id=\"T_2e8a5_row0_col5\" class=\"data row0 col5\" >-0.004059</td>\n",
              "      <td id=\"T_2e8a5_row0_col6\" class=\"data row0 col6\" >-0.075077</td>\n",
              "      <td id=\"T_2e8a5_row0_col7\" class=\"data row0 col7\" >0.004313</td>\n",
              "      <td id=\"T_2e8a5_row0_col8\" class=\"data row0 col8\" >0.020201</td>\n",
              "    </tr>\n",
              "    <tr>\n",
              "      <th id=\"T_2e8a5_level0_row1\" class=\"row_heading level0 row1\" >acousticness</th>\n",
              "      <td id=\"T_2e8a5_row1_col0\" class=\"data row1 col0\" >-0.279829</td>\n",
              "      <td id=\"T_2e8a5_row1_col1\" class=\"data row1 col1\" >1.000000</td>\n",
              "      <td id=\"T_2e8a5_row1_col2\" class=\"data row1 col2\" >-0.189599</td>\n",
              "      <td id=\"T_2e8a5_row1_col3\" class=\"data row1 col3\" >-0.477273</td>\n",
              "      <td id=\"T_2e8a5_row1_col4\" class=\"data row1 col4\" >0.110033</td>\n",
              "      <td id=\"T_2e8a5_row1_col5\" class=\"data row1 col5\" >0.041319</td>\n",
              "      <td id=\"T_2e8a5_row1_col6\" class=\"data row1 col6\" >0.038785</td>\n",
              "      <td id=\"T_2e8a5_row1_col7\" class=\"data row1 col7\" >-0.110701</td>\n",
              "      <td id=\"T_2e8a5_row1_col8\" class=\"data row1 col8\" >-0.085436</td>\n",
              "    </tr>\n",
              "    <tr>\n",
              "      <th id=\"T_2e8a5_level0_row2\" class=\"row_heading level0 row2\" >danceability</th>\n",
              "      <td id=\"T_2e8a5_row2_col0\" class=\"data row2 col0\" >0.102056</td>\n",
              "      <td id=\"T_2e8a5_row2_col1\" class=\"data row2 col1\" >-0.189599</td>\n",
              "      <td id=\"T_2e8a5_row2_col2\" class=\"data row2 col2\" >1.000000</td>\n",
              "      <td id=\"T_2e8a5_row2_col3\" class=\"data row2 col3\" >0.045345</td>\n",
              "      <td id=\"T_2e8a5_row2_col4\" class=\"data row2 col4\" >-0.118033</td>\n",
              "      <td id=\"T_2e8a5_row2_col5\" class=\"data row2 col5\" >-0.143339</td>\n",
              "      <td id=\"T_2e8a5_row2_col6\" class=\"data row2 col6\" >0.171311</td>\n",
              "      <td id=\"T_2e8a5_row2_col7\" class=\"data row2 col7\" >-0.094352</td>\n",
              "      <td id=\"T_2e8a5_row2_col8\" class=\"data row2 col8\" >0.428515</td>\n",
              "    </tr>\n",
              "    <tr>\n",
              "      <th id=\"T_2e8a5_level0_row3\" class=\"row_heading level0 row3\" >energy</th>\n",
              "      <td id=\"T_2e8a5_row3_col0\" class=\"data row3 col0\" >0.121991</td>\n",
              "      <td id=\"T_2e8a5_row3_col1\" class=\"data row3 col1\" >-0.477273</td>\n",
              "      <td id=\"T_2e8a5_row3_col2\" class=\"data row3 col2\" >0.045345</td>\n",
              "      <td id=\"T_2e8a5_row3_col3\" class=\"data row3 col3\" >1.000000</td>\n",
              "      <td id=\"T_2e8a5_row3_col4\" class=\"data row3 col4\" >-0.002412</td>\n",
              "      <td id=\"T_2e8a5_row3_col5\" class=\"data row3 col5\" >0.045752</td>\n",
              "      <td id=\"T_2e8a5_row3_col6\" class=\"data row3 col6\" >-0.008645</td>\n",
              "      <td id=\"T_2e8a5_row3_col7\" class=\"data row3 col7\" >0.227324</td>\n",
              "      <td id=\"T_2e8a5_row3_col8\" class=\"data row3 col8\" >0.219384</td>\n",
              "    </tr>\n",
              "    <tr>\n",
              "      <th id=\"T_2e8a5_level0_row4\" class=\"row_heading level0 row4\" >instrumentalness</th>\n",
              "      <td id=\"T_2e8a5_row4_col0\" class=\"data row4 col0\" >-0.283206</td>\n",
              "      <td id=\"T_2e8a5_row4_col1\" class=\"data row4 col1\" >0.110033</td>\n",
              "      <td id=\"T_2e8a5_row4_col2\" class=\"data row4 col2\" >-0.118033</td>\n",
              "      <td id=\"T_2e8a5_row4_col3\" class=\"data row4 col3\" >-0.002412</td>\n",
              "      <td id=\"T_2e8a5_row4_col4\" class=\"data row4 col4\" >1.000000</td>\n",
              "      <td id=\"T_2e8a5_row4_col5\" class=\"data row4 col5\" >-0.058593</td>\n",
              "      <td id=\"T_2e8a5_row4_col6\" class=\"data row4 col6\" >-0.216689</td>\n",
              "      <td id=\"T_2e8a5_row4_col7\" class=\"data row4 col7\" >0.023003</td>\n",
              "      <td id=\"T_2e8a5_row4_col8\" class=\"data row4 col8\" >-0.145200</td>\n",
              "    </tr>\n",
              "    <tr>\n",
              "      <th id=\"T_2e8a5_level0_row5\" class=\"row_heading level0 row5\" >liveness</th>\n",
              "      <td id=\"T_2e8a5_row5_col0\" class=\"data row5 col0\" >-0.004059</td>\n",
              "      <td id=\"T_2e8a5_row5_col1\" class=\"data row5 col1\" >0.041319</td>\n",
              "      <td id=\"T_2e8a5_row5_col2\" class=\"data row5 col2\" >-0.143339</td>\n",
              "      <td id=\"T_2e8a5_row5_col3\" class=\"data row5 col3\" >0.045752</td>\n",
              "      <td id=\"T_2e8a5_row5_col4\" class=\"data row5 col4\" >-0.058593</td>\n",
              "      <td id=\"T_2e8a5_row5_col5\" class=\"data row5 col5\" >1.000000</td>\n",
              "      <td id=\"T_2e8a5_row5_col6\" class=\"data row5 col6\" >0.073104</td>\n",
              "      <td id=\"T_2e8a5_row5_col7\" class=\"data row5 col7\" >-0.007566</td>\n",
              "      <td id=\"T_2e8a5_row5_col8\" class=\"data row5 col8\" >-0.017886</td>\n",
              "    </tr>\n",
              "    <tr>\n",
              "      <th id=\"T_2e8a5_level0_row6\" class=\"row_heading level0 row6\" >speechiness</th>\n",
              "      <td id=\"T_2e8a5_row6_col0\" class=\"data row6 col0\" >-0.075077</td>\n",
              "      <td id=\"T_2e8a5_row6_col1\" class=\"data row6 col1\" >0.038785</td>\n",
              "      <td id=\"T_2e8a5_row6_col2\" class=\"data row6 col2\" >0.171311</td>\n",
              "      <td id=\"T_2e8a5_row6_col3\" class=\"data row6 col3\" >-0.008645</td>\n",
              "      <td id=\"T_2e8a5_row6_col4\" class=\"data row6 col4\" >-0.216689</td>\n",
              "      <td id=\"T_2e8a5_row6_col5\" class=\"data row6 col5\" >0.073104</td>\n",
              "      <td id=\"T_2e8a5_row6_col6\" class=\"data row6 col6\" >1.000000</td>\n",
              "      <td id=\"T_2e8a5_row6_col7\" class=\"data row6 col7\" >0.032188</td>\n",
              "      <td id=\"T_2e8a5_row6_col8\" class=\"data row6 col8\" >0.094794</td>\n",
              "    </tr>\n",
              "    <tr>\n",
              "      <th id=\"T_2e8a5_level0_row7\" class=\"row_heading level0 row7\" >tempo</th>\n",
              "      <td id=\"T_2e8a5_row7_col0\" class=\"data row7 col0\" >0.004313</td>\n",
              "      <td id=\"T_2e8a5_row7_col1\" class=\"data row7 col1\" >-0.110701</td>\n",
              "      <td id=\"T_2e8a5_row7_col2\" class=\"data row7 col2\" >-0.094352</td>\n",
              "      <td id=\"T_2e8a5_row7_col3\" class=\"data row7 col3\" >0.227324</td>\n",
              "      <td id=\"T_2e8a5_row7_col4\" class=\"data row7 col4\" >0.023003</td>\n",
              "      <td id=\"T_2e8a5_row7_col5\" class=\"data row7 col5\" >-0.007566</td>\n",
              "      <td id=\"T_2e8a5_row7_col6\" class=\"data row7 col6\" >0.032188</td>\n",
              "      <td id=\"T_2e8a5_row7_col7\" class=\"data row7 col7\" >1.000000</td>\n",
              "      <td id=\"T_2e8a5_row7_col8\" class=\"data row7 col8\" >0.129911</td>\n",
              "    </tr>\n",
              "    <tr>\n",
              "      <th id=\"T_2e8a5_level0_row8\" class=\"row_heading level0 row8\" >valence</th>\n",
              "      <td id=\"T_2e8a5_row8_col0\" class=\"data row8 col0\" >0.020201</td>\n",
              "      <td id=\"T_2e8a5_row8_col1\" class=\"data row8 col1\" >-0.085436</td>\n",
              "      <td id=\"T_2e8a5_row8_col2\" class=\"data row8 col2\" >0.428515</td>\n",
              "      <td id=\"T_2e8a5_row8_col3\" class=\"data row8 col3\" >0.219384</td>\n",
              "      <td id=\"T_2e8a5_row8_col4\" class=\"data row8 col4\" >-0.145200</td>\n",
              "      <td id=\"T_2e8a5_row8_col5\" class=\"data row8 col5\" >-0.017886</td>\n",
              "      <td id=\"T_2e8a5_row8_col6\" class=\"data row8 col6\" >0.094794</td>\n",
              "      <td id=\"T_2e8a5_row8_col7\" class=\"data row8 col7\" >0.129911</td>\n",
              "      <td id=\"T_2e8a5_row8_col8\" class=\"data row8 col8\" >1.000000</td>\n",
              "    </tr>\n",
              "  </tbody>\n",
              "</table>\n"
            ]
          },
          "metadata": {},
          "execution_count": 3
        }
      ]
    },
    {
      "source": [
        "## 3. División de datos\n",
        "<p>Como ya hemos dicho, puede ser muy útil simplificar los modelos y utilizar el menor número de características posible para obtener el mejor resultado. Como no hemos encontrado correlaciones especialmente fuertes entre nuestras características, podemos dividir los datos en una matriz que contenga nuestras características y otra que contenga las etiquetas, es decir, el género de la canción. </p>\n",
        "<p>Una vez que hayamos dividido los datos en estas matrices, realizaremos algunos pasos de preprocesamiento para optimizar el desarrollo de nuestro modelo.</p>"
      ],
      "metadata": {
        "tags": [
          "context"
        ],
        "editable": false,
        "dc": {
          "key": "17"
        },
        "deletable": false,
        "run_control": {
          "frozen": true
        },
        "id": "d6b8c3e9-cdf6-4648-a951-1c7859302d27"
      },
      "id": "d6b8c3e9-cdf6-4648-a951-1c7859302d27",
      "cell_type": "markdown"
    },
    {
      "source": [
        "# Importamos la función train_test_split\n",
        "from sklearn.model_selection import train_test_split\n",
        "\n",
        "# Creación de \"features\"\n",
        "features = echo_tracks.drop([\"genre_top\",\"track_id\"],axis=1).values\n",
        "\n",
        "# Creación de \"labels\"\n",
        "labels = echo_tracks[\"genre_top\"].values\n",
        "\n",
        "# Dividimos nuestros datos\n",
        "train_features, test_features, train_labels, test_labels = train_test_split(features, labels, random_state = 10)"
      ],
      "metadata": {
        "trusted": true,
        "tags": [
          "sample_code"
        ],
        "collapsed": true,
        "dc": {
          "key": "17"
        },
        "jupyter": {
          "outputs_hidden": true
        },
        "id": "cf37e30a-17e0-46f8-9031-493cfdf93ac8"
      },
      "id": "cf37e30a-17e0-46f8-9031-493cfdf93ac8",
      "cell_type": "code",
      "execution_count": null,
      "outputs": []
    },
    {
      "source": [
        "## 4. Normalización de los datos de características\n",
        "<p>Como se mencionó anteriormente, puede ser particularmente útil simplificar nuestros modelos y utilizar la menor cantidad de características necesarias para lograr el mejor resultado. Dado que no encontramos ninguna correlación fuerte en particular entre nuestras características, podemos utilizar en su lugar un enfoque común para reducir la cantidad de características llamado <strong>análisis de componentes principales (PCA)</strong>. </p>\n",
        "<p>Es posible que la varianza entre géneros pueda explicarse por unas pocas características del conjunto de datos. El ACP rota los datos a lo largo del eje de mayor varianza, lo que nos permite determinar la contribución relativa de cada característica de nuestros datos a la varianza entre clases.</p>\n",
        "<p>Sin embargo, dado que el PCA utiliza la varianza absoluta de una característica para rotar los datos, una característica con un rango más amplio de valores dominará y sesgará el algoritmo en relación con las otras características. Para evitar esto, primero debemos normalizar nuestras características de entrenamiento y prueba. Hay algunos métodos para hacer esto, pero una forma común es a través de la <em>estandarización</em>, de modo que todas las características tengan una media = 0 y una desviación estándar = 1 (el resultado es una puntuación z). </p>"
      ],
      "metadata": {
        "tags": [
          "context"
        ],
        "editable": false,
        "dc": {
          "key": "24"
        },
        "deletable": false,
        "run_control": {
          "frozen": true
        },
        "id": "7cbf68e2-9435-4be4-bb5d-20f9790eed29"
      },
      "id": "7cbf68e2-9435-4be4-bb5d-20f9790eed29",
      "cell_type": "markdown"
    },
    {
      "source": [
        "# Importamos StandardScaler\n",
        "from sklearn.preprocessing import StandardScaler\n",
        "\n",
        "#Escalar las características y establecer los valores en una nueva variable\n",
        "scaler = StandardScaler()\n",
        "\n",
        "# Escala train_features y test_features\n",
        "scaled_train_features = scaler.fit_transform(train_features)\n",
        "scaled_test_features = scaler.transform(test_features)"
      ],
      "metadata": {
        "trusted": true,
        "tags": [
          "sample_code"
        ],
        "collapsed": true,
        "dc": {
          "key": "24"
        },
        "jupyter": {
          "outputs_hidden": true
        },
        "id": "bbbc7601-2e83-433e-8144-3ffa30a18bbc"
      },
      "id": "bbbc7601-2e83-433e-8144-3ffa30a18bbc",
      "cell_type": "code",
      "execution_count": null,
      "outputs": []
    },
    {
      "source": [
        "## 5. Análisis de componentes principales en nuestros datos escalados\n",
        "<p>Ahora que hemos preprocesado nuestros datos, estamos listos para utilizar el PCA para determinar en qué medida podemos reducir la dimensionalidad de nuestros datos.  Podemos utilizar scree-plots y cumulative explained ratio plots para averiguar el número de componentes que debemos utilizar en análisis posteriores.</p>\n",
        "<p>Los gráficos de escala muestran el número de componentes frente a la varianza explicada por cada componente, ordenados por orden descendente de varianza. Los gráficos de escala nos ayudan a hacernos una mejor idea de qué componentes explican una cantidad suficiente de varianza en nuestros datos. Cuando se utilizan los gráficos scree, se suele utilizar un «codo» (una caída pronunciada de un punto de datos al siguiente) en el gráfico para decidir un punto de corte adecuado.</p>"
      ],
      "metadata": {
        "tags": [
          "context"
        ],
        "editable": false,
        "dc": {
          "key": "31"
        },
        "deletable": false,
        "run_control": {
          "frozen": true
        },
        "id": "c751627e-56fb-4e45-ba78-3e9364db8188"
      },
      "id": "c751627e-56fb-4e45-ba78-3e9364db8188",
      "cell_type": "markdown"
    },
    {
      "source": [
        "# Esto es sólo para hacer que los plots aparezcan en el notebook\n",
        "%matplotlib inline\n",
        "\n",
        "# Importa nuestro módulo de trazado y la clase PCA\n",
        "import matplotlib.pyplot as plt\n",
        "from sklearn.decomposition import PCA\n",
        "\n",
        "# Obtenga nuestros ratios de varianza explicada a partir de PCA utilizando todas las características\n",
        "pca = PCA()\n",
        "pca.fit(scaled_train_features)\n",
        "exp_variance = pca.explained_variance_ratio_\n",
        "\n",
        "# Trazamos la varianza explicada mediante un diagrama de barras\n",
        "fig, ax = plt.subplots()\n",
        "ax.bar(range(pca.n_components_), exp_variance)\n",
        "ax.set_xlabel('Principal Component #')"
      ],
      "metadata": {
        "trusted": true,
        "tags": [
          "sample_code"
        ],
        "dc": {
          "key": "31"
        },
        "colab": {
          "base_uri": "https://localhost:8080/",
          "height": 471
        },
        "id": "a8271a2e-cee1-497c-b64e-c858b18c2e76",
        "outputId": "474accf9-3830-4d41-b84d-6dd3f121d518"
      },
      "id": "a8271a2e-cee1-497c-b64e-c858b18c2e76",
      "cell_type": "code",
      "execution_count": null,
      "outputs": [
        {
          "output_type": "execute_result",
          "data": {
            "text/plain": [
              "Text(0.5, 0, 'Principal Component #')"
            ]
          },
          "metadata": {},
          "execution_count": 7
        },
        {
          "output_type": "display_data",
          "data": {
            "text/plain": [
              "<Figure size 640x480 with 1 Axes>"
            ],
            "image/png": "[encoded data removed]"
          },
          "metadata": {}
        }
      ]
    },
    {
      "source": [
        "## 6. Visualización adicional de PCA\n",
        "<p>Desgraciadamente, no parece haber un codo claro en este gráfico de dispersión, lo que significa que no es sencillo hallar el número de dimensiones intrínsecas utilizando este método. </p>\n",
        "<p>Pero no todo está perdido. En su lugar, también podemos observar el gráfico de la varianza explicada acumulada para determinar cuántas características son necesarias para explicar, por ejemplo, alrededor del 85% de la varianza (los límites son algo arbitrarios en este caso, y normalmente se deciden mediante «reglas empíricas»). Una vez determinado el número apropiado de componentes, podemos realizar PCA con ese número de componentes, reduciendo idealmente la dimensionalidad de nuestros datos.</p>"
      ],
      "metadata": {
        "tags": [
          "context"
        ],
        "editable": false,
        "dc": {
          "key": "38"
        },
        "deletable": false,
        "run_control": {
          "frozen": true
        },
        "id": "072a8312-72d3-4f66-8d19-88d44ad2b433"
      },
      "id": "072a8312-72d3-4f66-8d19-88d44ad2b433",
      "cell_type": "markdown"
    },
    {
      "source": [
        "# Importamos numpy\n",
        "import numpy as np\n",
        "\n",
        "# Calcular la varianza explicada acumulada\n",
        "cum_exp_variance = np.cumsum(exp_variance)\n",
        "\n",
        "#Represente gráficamente la varianza explicada acumulada y trace una línea discontinua en 0,85.\n",
        "fig, ax = plt.subplots()\n",
        "ax.plot(cum_exp_variance)\n",
        "ax.axhline(y=0.85, linestyle='--')"
      ],
      "metadata": {
        "trusted": true,
        "tags": [
          "sample_code"
        ],
        "dc": {
          "key": "38"
        },
        "colab": {
          "base_uri": "https://localhost:8080/",
          "height": 447
        },
        "id": "f6ca41a5-4234-4c3f-904e-9b25fe43e0b4",
        "outputId": "0051379e-74f1-4795-a338-8efe410b5307"
      },
      "id": "f6ca41a5-4234-4c3f-904e-9b25fe43e0b4",
      "cell_type": "code",
      "execution_count": null,
      "outputs": [
        {
          "output_type": "execute_result",
          "data": {
            "text/plain": [
              "<matplotlib.lines.Line2D at 0x7cb7c6e027d0>"
            ]
          },
          "metadata": {},
          "execution_count": 8
        },
        {
          "output_type": "display_data",
          "data": {
            "text/plain": [
              "<Figure size 640x480 with 1 Axes>"
            ],
            "image/png": "[encoded data removed]"
          },
          "metadata": {}
        }
      ]
    },
    {
      "source": [
        "## 7. Proyección sobre nuestras características\n",
        "<p>El gráfico muestra que 6 características (recuerde que la indexación empieza en 0) pueden explicar el 85% de la varianza. </p>\n",
        "<p>Por lo tanto, podemos utilizar 6 componentes para realizar el PCA y reducir la dimensionalidad de nuestras características de entrenamiento y prueba.</p>"
      ],
      "metadata": {
        "tags": [
          "context"
        ],
        "editable": false,
        "dc": {
          "key": "45"
        },
        "deletable": false,
        "run_control": {
          "frozen": true
        },
        "id": "01d57a2c-816f-4202-8b47-87bfc0c5db74"
      },
      "id": "01d57a2c-816f-4202-8b47-87bfc0c5db74",
      "cell_type": "markdown"
    },
    {
      "source": [
        "# Realice el PCA con el número de componentes elegido y proyecte los datos sobre los componentes\n",
        "pca = PCA(n_components = 6, random_state = 10)\n",
        "\n",
        "# Ajuste y transformación de las características de entrenamiento escaladas mediante pca\n",
        "train_pca = pca.fit_transform(scaled_train_features)\n",
        "\n",
        "#Ajuste y transformación de las características de prueba escaladas mediante pca\n",
        "test_pca = pca.transform(scaled_test_features)"
      ],
      "metadata": {
        "trusted": true,
        "tags": [
          "sample_code"
        ],
        "collapsed": true,
        "dc": {
          "key": "45"
        },
        "jupyter": {
          "outputs_hidden": true
        },
        "id": "13aaddc7-6e64-401d-8429-56736a489ef9"
      },
      "id": "13aaddc7-6e64-401d-8429-56736a489ef9",
      "cell_type": "code",
      "execution_count": null,
      "outputs": []
    },
    {
      "source": [
        "## 8. Entrenar un árbol de decisión para clasificar el género\n",
        "<p>Ahora podemos utilizar la proyección PCA de menor dimensión de los datos para clasificar las canciones en géneros. </p>\n",
        "<p>En este caso, utilizaremos un algoritmo sencillo conocido como árbol de decisión. Los árboles de decisión son clasificadores basados en reglas que toman características y siguen una «estructura de árbol» de decisiones binarias para, en última instancia, clasificar un punto de datos en una de dos o más categorías. Además de ser fáciles de utilizar e interpretar, los árboles de decisión nos permiten visualizar el «diagrama de flujo lógico» que el modelo genera a partir de los datos de entrenamiento.</p>\n",
        "<p>He aquí un ejemplo de árbol de decisión que demuestra el proceso por el que una imagen de entrada (en este caso, de una forma) podría clasificarse en función del número de lados que tiene y de si está girada.</p>\n",
        "<p><img src=\"https://assets.datacamp.com/production/project_449/img/simple_decision_tree.png\" alt=\"Decision Tree Flow Chart Example\" width=\"350px\"></p>"
      ],
      "metadata": {
        "tags": [
          "context"
        ],
        "editable": false,
        "dc": {
          "key": "52"
        },
        "deletable": false,
        "run_control": {
          "frozen": true
        },
        "id": "e07ef0fd-87d8-48d1-b88f-f5cae0fddc31"
      },
      "id": "e07ef0fd-87d8-48d1-b88f-f5cae0fddc31",
      "cell_type": "markdown"
    },
    {
      "source": [
        "# Importamos Decision tree classifier\n",
        "from sklearn.tree import DecisionTreeClassifier\n",
        "\n",
        "# Creamos nuestra decision tree\n",
        "tree = DecisionTreeClassifier(random_state=10)\n",
        "\n",
        "# Entrenamos nuestra decision tree\n",
        "tree.fit(train_pca, train_labels)\n",
        "\n",
        "# Predecimos las etiquetas de los datos de prueba\n",
        "pred_labels_tree = tree.predict(test_pca)"
      ],
      "metadata": {
        "trusted": true,
        "tags": [
          "sample_code"
        ],
        "collapsed": true,
        "dc": {
          "key": "52"
        },
        "jupyter": {
          "outputs_hidden": true
        },
        "id": "7faa18e4-e4ac-48c3-a2ed-26b8e8763eeb"
      },
      "id": "7faa18e4-e4ac-48c3-a2ed-26b8e8763eeb",
      "cell_type": "code",
      "execution_count": null,
      "outputs": []
    },
    {
      "source": [
        "## 9. Compare nuestro árbol de decisión con una regresión logística\n",
        "<p>Aunque el rendimiento de nuestro árbol es decente, es una mala idea asumir inmediatamente que es la herramienta perfecta para este trabajo: ¡siempre existe la posibilidad de que haya otros modelos con un rendimiento aún mejor! Siempre merece la pena probar al menos otros algoritmos y encontrar el que mejor se adapte a nuestros datos.</p>\n",
        "<p>A veces lo más sencillo es lo mejor, así que empezaremos aplicando la <strong>regresión logística</strong>. La regresión logística hace uso de lo que se denomina función logística para calcular las probabilidades de que un punto de datos determinado pertenezca a una clase determinada. Una vez que tenemos ambos modelos, podemos compararlos en algunas métricas de rendimiento, como la tasa de falsos positivos y falsos negativos (o cuántos puntos se clasifican incorrectamente). </p>"
      ],
      "metadata": {
        "tags": [
          "context"
        ],
        "editable": false,
        "dc": {
          "key": "59"
        },
        "deletable": false,
        "run_control": {
          "frozen": true
        },
        "id": "fccc8585-3bc9-4e1f-adf2-eaa47fa8a0ad"
      },
      "id": "fccc8585-3bc9-4e1f-adf2-eaa47fa8a0ad",
      "cell_type": "markdown"
    },
    {
      "source": [
        "# Importamos LogisticRegression\n",
        "from sklearn.linear_model import LogisticRegression\n",
        "\n",
        "# Entrenar nuestra regresión logística y predecir etiquetas para el conjunto de pruebas\n",
        "logreg = LogisticRegression(random_state = 10)\n",
        "logreg.fit(train_pca,train_labels)\n",
        "pred_labels_logit = logreg.predict(test_pca)\n",
        "\n",
        "# Crear el informe de clasificación para ambos modelos\n",
        "from sklearn.metrics import classification_report\n",
        "class_rep_tree = classification_report(test_labels, pred_labels_tree)\n",
        "class_rep_log = classification_report(test_labels, pred_labels_logit)\n",
        "\n",
        "print(\"Decision Tree: \\n\", class_rep_tree)\n",
        "print(\"Logistic Regression: \\n\", class_rep_log)"
      ],
      "metadata": {
        "trusted": true,
        "tags": [
          "sample_code"
        ],
        "dc": {
          "key": "59"
        },
        "outputsMetadata": {
          "0": {
            "height": 353,
            "type": "stream"
          }
        },
        "colab": {
          "base_uri": "https://localhost:8080/"
        },
        "id": "de0a693e-52f5-43a9-927c-e63b866d742c",
        "outputId": "c1f6e199-b6c5-473e-adf9-63334e0a5b4d"
      },
      "id": "de0a693e-52f5-43a9-927c-e63b866d742c",
      "cell_type": "code",
      "execution_count": null,
      "outputs": [
        {
          "output_type": "stream",
          "name": "stdout",
          "text": [
            "Decision Tree: \n",
            "               precision    recall  f1-score   support\n",
            "\n",
            "     Hip-Hop       0.63      0.62      0.62       235\n",
            "        Rock       0.91      0.91      0.91       966\n",
            "\n",
            "    accuracy                           0.85      1201\n",
            "   macro avg       0.77      0.77      0.77      1201\n",
            "weighted avg       0.85      0.85      0.85      1201\n",
            "\n",
            "Logistic Regression: \n",
            "               precision    recall  f1-score   support\n",
            "\n",
            "     Hip-Hop       0.77      0.54      0.64       235\n",
            "        Rock       0.90      0.96      0.93       966\n",
            "\n",
            "    accuracy                           0.88      1201\n",
            "   macro avg       0.83      0.75      0.78      1201\n",
            "weighted avg       0.87      0.88      0.87      1201\n",
            "\n"
          ]
        }
      ]
    },
    {
      "source": [
        "## 10. Equilibrar nuestros datos para un mayor rendimiento\n",
        "<p>Nuestros dos modelos obtienen resultados similares, con una precisión media del 87% cada uno. Sin embargo, si observamos nuestro informe de clasificación, podemos ver que las canciones de rock se clasifican bastante bien, pero las de hip-hop se clasifican erróneamente como canciones de rock de forma desproporcionada. </p>\n",
        "<p>¿Por qué? Sólo con mirar el número de puntos de datos que tenemos para cada clase, vemos que tenemos muchos más puntos de datos para la clasificación de rock que para la de hip-hop, lo que podría sesgar la capacidad de nuestro modelo para distinguir entre clases. Esto también nos indica que la mayor parte de la precisión de nuestro modelo se debe a su capacidad para clasificar únicamente canciones de rock, lo que no es lo ideal.</p>\n",
        "<p>Para tenerlo en cuenta, podemos ponderar el valor de una clasificación correcta en cada clase de forma inversa al número de puntos de datos de cada clase. Dado que una clasificación correcta de «Rock» no es más importante que una clasificación correcta de «Hip-Hop» (y viceversa), al ponderar nuestras clases sólo tenemos que tener en cuenta las diferencias en el tamaño de la muestra de nuestros puntos de datos, y no la importancia relativa de cada clase. </p>"
      ],
      "metadata": {
        "tags": [
          "context"
        ],
        "editable": false,
        "dc": {
          "key": "66"
        },
        "deletable": false,
        "run_control": {
          "frozen": true
        },
        "id": "60e96c85-8cf7-4205-ac97-4ccd30355cfa"
      },
      "id": "60e96c85-8cf7-4205-ac97-4ccd30355cfa",
      "cell_type": "markdown"
    },
    {
      "source": [
        "#Subconjunto sólo de las pistas de hip-hop, y luego sólo las pistas de rock\n",
        "hop_only = echo_tracks.loc[echo_tracks['genre_top'] == 'Hip-Hop']\n",
        "rock_only = echo_tracks.loc[echo_tracks['genre_top'] == 'Rock']\n",
        "\n",
        "#Muestrear las canciones de rock para que sean el mismo número que hay de hip-hop\n",
        "rock_only = rock_only.sample(hop_only.shape[0], random_state=10)\n",
        "\n",
        "#Concatenar los dataframes rock_only y hop_only\n",
        "rock_hop_bal = pd.concat([rock_only, hop_only])\n",
        "\n",
        "\n",
        "#Las características, las etiquetas y la proyección pca se crean para el marco de datos equilibrado\n",
        "features = rock_hop_bal.drop(['genre_top', 'track_id'], axis=1)\n",
        "labels = rock_hop_bal['genre_top']\n",
        "\n",
        "#Redefinir el conjunto de entrenamiento y prueba con la proyección_pca a partir de los datos equilibrados.\n",
        "train_features, test_features, train_labels, test_labels = train_test_split(features,labels, random_state=10)\n",
        "\n",
        "train_pca = pca.fit_transform(scaler.fit_transform(train_features))\n",
        "test_pca = pca.transform(scaler.transform(test_features))"
      ],
      "metadata": {
        "trusted": true,
        "tags": [
          "sample_code"
        ],
        "dc": {
          "key": "66"
        },
        "id": "482f6ea9-4c5d-438c-96dd-7120418a1c19"
      },
      "id": "482f6ea9-4c5d-438c-96dd-7120418a1c19",
      "cell_type": "code",
      "execution_count": null,
      "outputs": []
    },
    {
      "source": [
        "## 11. ¿El equilibrio de nuestro conjunto de datos mejora el sesgo del modelo?\n",
        "<p>Ahora hemos equilibrado nuestro conjunto de datos, pero al hacerlo, hemos eliminado muchos puntos de datos que podrían haber sido cruciales para entrenar nuestros modelos. Comprobemos si el equilibrio de los datos mejora el sesgo del modelo hacia la clasificación «Rock», manteniendo al mismo tiempo el rendimiento general de la clasificación. </p>\n",
        "<p>Tenga en cuenta que ya hemos reducido el tamaño de nuestro conjunto de datos y que seguiremos adelante sin aplicar ninguna reducción de la dimensionalidad. En la práctica, consideraremos la reducción de la dimensionalidad de forma más rigurosa cuando tratemos con conjuntos de datos enormemente grandes y cuando los tiempos de cálculo sean prohibitivos.</p>"
      ],
      "metadata": {
        "tags": [
          "context"
        ],
        "editable": false,
        "dc": {
          "key": "73"
        },
        "deletable": false,
        "run_control": {
          "frozen": true
        },
        "id": "1124ee14-f226-4740-8fa2-76231f912f6a"
      },
      "id": "1124ee14-f226-4740-8fa2-76231f912f6a",
      "cell_type": "markdown"
    },
    {
      "source": [
        "# Entrenar nuestro árbol de decisión en los datos equilibrados\n",
        "tree = DecisionTreeClassifier(random_state = 10)\n",
        "tree.fit(train_pca,train_labels)\n",
        "pred_labels_tree = tree.predict(test_pca)\n",
        "\n",
        "# Entrenar nuestra regresión logística en los datos equilibrados\n",
        "logreg = LogisticRegression(random_state = 10)\n",
        "logreg.fit(train_pca,train_labels)\n",
        "pred_labels_logit = logreg.predict(test_pca)\n",
        "\n",
        "# Comparamos los modelos\n",
        "print(\"Decision Tree: \\n\", classification_report(test_labels,pred_labels_tree))\n",
        "print(\"Logistic Regression: \\n\", classification_report(test_labels,pred_labels_logit))"
      ],
      "metadata": {
        "trusted": true,
        "tags": [
          "sample_code"
        ],
        "dc": {
          "key": "73"
        },
        "outputsMetadata": {
          "0": {
            "height": 353,
            "type": "stream"
          }
        },
        "colab": {
          "base_uri": "https://localhost:8080/"
        },
        "id": "39f15ff3-239c-456a-a16c-509ba0134b93",
        "outputId": "42d72929-a6e0-4593-b558-6944b79e6b42"
      },
      "id": "39f15ff3-239c-456a-a16c-509ba0134b93",
      "cell_type": "code",
      "execution_count": null,
      "outputs": [
        {
          "output_type": "stream",
          "name": "stdout",
          "text": [
            "Decision Tree: \n",
            "               precision    recall  f1-score   support\n",
            "\n",
            "     Hip-Hop       0.82      0.77      0.79       230\n",
            "        Rock       0.78      0.82      0.80       225\n",
            "\n",
            "    accuracy                           0.80       455\n",
            "   macro avg       0.80      0.80      0.80       455\n",
            "weighted avg       0.80      0.80      0.80       455\n",
            "\n",
            "Logistic Regression: \n",
            "               precision    recall  f1-score   support\n",
            "\n",
            "     Hip-Hop       0.84      0.80      0.82       230\n",
            "        Rock       0.81      0.85      0.83       225\n",
            "\n",
            "    accuracy                           0.82       455\n",
            "   macro avg       0.82      0.82      0.82       455\n",
            "weighted avg       0.83      0.82      0.82       455\n",
            "\n"
          ]
        }
      ]
    },
    {
      "source": [
        "## 12. Validación cruzada para evaluar nuestros modelos\n",
        "<p>El equilibrio de los datos ha eliminado el sesgo hacia la clase más prevalente. Para hacernos una idea de lo bien que funcionan nuestros modelos, podemos aplicar lo que se denomina validación cruzada (CV). Este paso nos permite comparar modelos de forma más rigurosa.</p>\n",
        "<p>Antes de poder realizar la validación cruzada, tendremos que crear canalizaciones para escalar nuestros datos, realizar PCA e instanciar nuestro modelo de elección: DecisionTreeClassifier o LogisticRegression.</p>\n",
        "<p>Dado que la forma en que se dividen los datos en conjuntos de entrenamiento y prueba puede afectar al rendimiento del modelo, la CV intenta dividir los datos de varias formas y probar el modelo en cada una de las divisiones. Aunque existen muchos métodos diferentes de CV, todos con sus propias ventajas y desventajas, aquí utilizaremos el conocido como CV K-fold. K-fold divide primero los datos en K subconjuntos diferentes de igual tamaño. A continuación, utiliza de forma iterativa cada subconjunto como conjunto de prueba mientras utiliza el resto de los datos como conjuntos de entrenamiento. Por último, podemos agregar los resultados de cada pliegue para obtener una puntuación final del rendimiento del modelo.</p>"
      ],
      "metadata": {
        "tags": [
          "context"
        ],
        "editable": false,
        "dc": {
          "key": "80"
        },
        "deletable": false,
        "run_control": {
          "frozen": true
        },
        "id": "2fc4f86b-a31c-4b49-846d-8004b11ee1bc"
      },
      "id": "2fc4f86b-a31c-4b49-846d-8004b11ee1bc",
      "cell_type": "markdown"
    },
    {
      "source": [
        "from sklearn.model_selection import KFold, cross_val_score\n",
        "from sklearn.pipeline import Pipeline\n",
        "tree_pipe = Pipeline([(\"scaler\", StandardScaler()), (\"pca\", PCA(n_components=6)),\n",
        "                      (\"tree\", DecisionTreeClassifier(random_state=10))])\n",
        "logreg_pipe = Pipeline([(\"scaler\", StandardScaler()), (\"pca\", PCA(n_components=6)),\n",
        "                        (\"logreg\", LogisticRegression(random_state=10))])\n",
        "\n",
        "# Configuramos nuestra validación cruzada K-fold\n",
        "kf = KFold(10)\n",
        "\n",
        "# Entrena nuestros modelos usando KFold cv\n",
        "tree_score = cross_val_score(tree_pipe,train_features,train_labels,cv=kf)\n",
        "logit_score = cross_val_score(logreg_pipe,train_features,train_labels,cv=kf)\n",
        "\n",
        "# Imprime la media de cada matriz de puntuaciones\n",
        "print(\"Decision Tree:\", tree_score.mean(), \"Logistic Regression:\", logit_score.mean())"
      ],
      "metadata": {
        "trusted": true,
        "tags": [
          "sample_code"
        ],
        "dc": {
          "key": "80"
        },
        "outputsMetadata": {
          "0": {
            "height": 38,
            "type": "stream"
          }
        },
        "colab": {
          "base_uri": "https://localhost:8080/"
        },
        "id": "ff7c96e1-abc8-4ff0-a4e4-bb29b1cf270d",
        "outputId": "2e361fce-b982-41d2-ef12-fe854b99863f"
      },
      "id": "ff7c96e1-abc8-4ff0-a4e4-bb29b1cf270d",
      "cell_type": "code",
      "execution_count": null,
      "outputs": [
        {
          "output_type": "stream",
          "name": "stdout",
          "text": [
            "Decision Tree: 0.7677221983683984 Logistic Regression: 0.8249892657793044\n"
          ]
        }
      ]
    }
  ],
  "metadata": {
    "language_info": {
      "name": "python",
      "pygments_lexer": "ipython3",
      "version": "3.5.2",
      "nbconvert_exporter": "python",
      "mimetype": "text/x-python",
      "file_extension": ".py",
      "codemirror_mode": {
        "name": "ipython",
        "version": 3
      }
    },
    "kernelspec": {
      "name": "python3",
      "display_name": "Python 3",
      "language": "python"
    },
    "colab": {
      "provenance": []
    }
  },
  "nbformat": 4,
  "nbformat_minor": 5
}